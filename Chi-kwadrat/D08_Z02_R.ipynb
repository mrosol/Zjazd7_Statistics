{
 "cells": [
  {
   "cell_type": "code",
   "execution_count": 1,
   "metadata": {},
   "outputs": [],
   "source": [
    "import numpy as np\n",
    "import pandas as pd\n",
    "import scipy.stats as stats"
   ]
  },
  {
   "cell_type": "markdown",
   "metadata": {},
   "source": [
    "# Zadanie \n",
    "Wykonaj test chi-kwadrat w celu sprawdzenia czy dane demograficzne w USA mają ten sam rozkład co dane w Minesockie.\n",
    "Użyj danych wygenerowanych poniżej:"
   ]
  },
  {
   "cell_type": "code",
   "execution_count": 2,
   "metadata": {},
   "outputs": [
    {
     "name": "stdout",
     "output_type": "stream",
     "text": [
      "National\n",
      "           count\n",
      "white     100000\n",
      "hispanic   60000\n",
      "black      50000\n",
      "asian      15000\n",
      "other      35000\n",
      " \n",
      "Minnesota\n",
      "          count\n",
      "white       600\n",
      "hispanic    300\n",
      "black       250\n",
      "asian        75\n",
      "other       150\n"
     ]
    }
   ],
   "source": [
    "national = {'count':[100000,60000,50000,15000,35000]}\n",
    "idx = [\"white\", \"hispanic\", \"black\", \"asian\", \"other\"]\n",
    "national_table = pd.DataFrame(national,index=idx)\n",
    "minnesota = {'count':[600,300,250,75,150]}\n",
    "minnesota_table = pd.DataFrame(minnesota,index=idx)\n",
    "print( \"National\")\n",
    "print(national_table)\n",
    "print(\" \")\n",
    "print( \"Minnesota\")\n",
    "print(minnesota_table)"
   ]
  },
  {
   "cell_type": "markdown",
   "metadata": {},
   "source": [
    "## Najpierw musimy wyliczyć przewidywany rozkład"
   ]
  },
  {
   "cell_type": "markdown",
   "metadata": {},
   "source": [
    "USA tak samo jak minesota"
   ]
  },
  {
   "cell_type": "code",
   "execution_count": 6,
   "metadata": {},
   "outputs": [
    {
     "name": "stdout",
     "output_type": "stream",
     "text": [
      "           count\n",
      "white     100000\n",
      "hispanic   60000\n",
      "black      50000\n",
      "asian      15000\n",
      "other      35000\n",
      "...\n",
      "             count\n",
      "white     0.436364\n",
      "hispanic  0.218182\n",
      "black     0.181818\n",
      "asian     0.054545\n",
      "other     0.109091\n",
      "...\n",
      "                  count\n",
      "white     113454.545455\n",
      "hispanic   56727.272727\n",
      "black      47272.727273\n",
      "asian      14181.818182\n",
      "other      28363.636364\n"
     ]
    }
   ],
   "source": [
    "observed = national_table\n",
    "print(observed)\n",
    "print(\"...\")\n",
    "minesota_ratios = minnesota_table/np.sum(minnesota['count'])  # Get population ratios\n",
    "print(minesota_ratios)\n",
    "print(\"...\")\n",
    "expected = minesota_ratios * np.sum(national['count'])   # Get expected counts\n",
    "print(expected)"
   ]
  },
  {
   "cell_type": "markdown",
   "metadata": {},
   "source": [
    "## Wykonujemy test chi-kwadrat"
   ]
  },
  {
   "cell_type": "code",
   "execution_count": 14,
   "metadata": {},
   "outputs": [
    {
     "name": "stdout",
     "output_type": "stream",
     "text": [
      "3541.666666666667\n",
      "0.0\n"
     ]
    }
   ],
   "source": [
    "V,p = stats.chisquare(f_obs= observed['count'],f_exp= expected['count']) \n",
    "\n",
    "print(V)\n",
    "print(p)"
   ]
  },
  {
   "cell_type": "code",
   "execution_count": 13,
   "metadata": {},
   "outputs": [
    {
     "data": {
      "text/plain": [
       "white       100000\n",
       "hispanic     60000\n",
       "black        50000\n",
       "asian        15000\n",
       "other        35000\n",
       "Name: count, dtype: int64"
      ]
     },
     "execution_count": 13,
     "metadata": {},
     "output_type": "execute_result"
    }
   ],
   "source": [
    "observed['count']"
   ]
  },
  {
   "cell_type": "markdown",
   "metadata": {},
   "source": [
    "# Czy dane demograficzne w Minesocie mają ten sam rozkład co dane  w USA?"
   ]
  },
  {
   "cell_type": "code",
   "execution_count": 16,
   "metadata": {},
   "outputs": [
    {
     "name": "stdout",
     "output_type": "stream",
     "text": [
      "          count\n",
      "white       600\n",
      "hispanic    300\n",
      "black       250\n",
      "asian        75\n",
      "other       150\n",
      "...\n",
      "             count\n",
      "white     0.384615\n",
      "hispanic  0.230769\n",
      "black     0.192308\n",
      "asian     0.057692\n",
      "other     0.134615\n",
      "...\n",
      "               count\n",
      "white     528.846154\n",
      "hispanic  317.307692\n",
      "black     264.423077\n",
      "asian      79.326923\n",
      "other     185.096154\n",
      "18.194805194805177\n",
      "0.0011304670928034746\n"
     ]
    }
   ],
   "source": [
    "observed = minnesota_table\n",
    "print(observed)\n",
    "print(\"...\")\n",
    "national_ratios = national_table/np.sum(national['count'])  # Get population ratios\n",
    "print(national_ratios)\n",
    "print(\"...\")\n",
    "expected = national_ratios * np.sum(minnesota['count'])   # Get expected counts\n",
    "print(expected)\n",
    "\n",
    "V, p = stats.chisquare(f_obs= observed['count'],f_exp= expected['count']) \n",
    "print(V)\n",
    "print(p)"
   ]
  },
  {
   "cell_type": "code",
   "execution_count": null,
   "metadata": {},
   "outputs": [],
   "source": []
  },
  {
   "cell_type": "code",
   "execution_count": null,
   "metadata": {},
   "outputs": [],
   "source": []
  },
  {
   "cell_type": "code",
   "execution_count": null,
   "metadata": {},
   "outputs": [],
   "source": []
  }
 ],
 "metadata": {
  "kernelspec": {
   "display_name": "Python 3",
   "language": "python",
   "name": "python3"
  },
  "language_info": {
   "codemirror_mode": {
    "name": "ipython",
    "version": 3
   },
   "file_extension": ".py",
   "mimetype": "text/x-python",
   "name": "python",
   "nbconvert_exporter": "python",
   "pygments_lexer": "ipython3",
   "version": "3.7.6"
  }
 },
 "nbformat": 4,
 "nbformat_minor": 2
}
