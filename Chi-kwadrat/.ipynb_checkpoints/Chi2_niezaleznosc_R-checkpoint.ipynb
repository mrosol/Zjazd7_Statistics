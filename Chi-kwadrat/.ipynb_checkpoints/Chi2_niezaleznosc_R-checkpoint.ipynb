{
 "cells": [
  {
   "cell_type": "markdown",
   "metadata": {},
   "source": [
    "# Test niezależności chi-kwadrat\n",
    "Załóżmy, że przeprowadzono międzynarodowe badania z zakresu genetyki, w których naukowcy badali obecność u ludzi genu odpowiedzialnego za rozumienie rachunku różniczkowego.\n",
    "\n",
    "W przypadku danych z poniższej tabeli sprawdzić czy to, że ktoś posiada gen odpowiedzialny za zrozumienie rachunku różniczkowego zależy od kraju pochodzenia:\n",
    "\n",
    "<table>\n",
    "  <tr>\n",
    "    <th></th>\n",
    "    <td>Nie posiadają genu</td> \n",
    "    <td>Posiadają gen</td>\n",
    "  </tr>\n",
    "  <tr>\n",
    "    <td>Kraj 1</td>\n",
    "    <td>6400</td>\n",
    "    <td>1150</td>\n",
    "  </tr>\n",
    "  <tr>\n",
    "    <td>Kraj 2</td>\n",
    "    <td>5450</td>\n",
    "    <td>1300</td>\n",
    "  </tr>\n",
    "  <tr>\n",
    "    <td>Kraj 3</td>\n",
    "    <td>18200</td>\n",
    "    <td>3510</td>\n",
    "  </tr>\n",
    "  <tr>\n",
    "    <td>Kraj 4</td>\n",
    "    <td>8140</td>\n",
    "    <td>1668</td>\n",
    "  </tr>\n",
    "</table>\n",
    "    \n",
    "H0 - Obecność danego genu nie zależy od kraju pochodzenia\n",
    "\n",
    "H1 - Obecność genu zależy od kraju pochodzenia"
   ]
  },
  {
   "cell_type": "code",
   "execution_count": 2,
   "metadata": {},
   "outputs": [],
   "source": [
    "import numpy as np\n",
    "import pandas as pd\n",
    "from scipy import stats\n",
    "data = np.array([[6400,1150],[5450,1300],[18200,3510],[8140,1668]])\n"
   ]
  },
  {
   "cell_type": "code",
   "execution_count": 3,
   "metadata": {},
   "outputs": [
    {
     "data": {
      "text/html": [
       "<div>\n",
       "<style scoped>\n",
       "    .dataframe tbody tr th:only-of-type {\n",
       "        vertical-align: middle;\n",
       "    }\n",
       "\n",
       "    .dataframe tbody tr th {\n",
       "        vertical-align: top;\n",
       "    }\n",
       "\n",
       "    .dataframe thead th {\n",
       "        text-align: right;\n",
       "    }\n",
       "</style>\n",
       "<table border=\"1\" class=\"dataframe\">\n",
       "  <thead>\n",
       "    <tr style=\"text-align: right;\">\n",
       "      <th></th>\n",
       "      <th>Brak genu</th>\n",
       "      <th>Mają gen</th>\n",
       "      <th>row_totals</th>\n",
       "    </tr>\n",
       "  </thead>\n",
       "  <tbody>\n",
       "    <tr>\n",
       "      <th>Kraj 1</th>\n",
       "      <td>6400</td>\n",
       "      <td>1150</td>\n",
       "      <td>7550</td>\n",
       "    </tr>\n",
       "    <tr>\n",
       "      <th>Kraj 2</th>\n",
       "      <td>5450</td>\n",
       "      <td>1300</td>\n",
       "      <td>6750</td>\n",
       "    </tr>\n",
       "    <tr>\n",
       "      <th>Kraj 3</th>\n",
       "      <td>18200</td>\n",
       "      <td>3510</td>\n",
       "      <td>21710</td>\n",
       "    </tr>\n",
       "    <tr>\n",
       "      <th>Kraj 4</th>\n",
       "      <td>8140</td>\n",
       "      <td>1668</td>\n",
       "      <td>9808</td>\n",
       "    </tr>\n",
       "    <tr>\n",
       "      <th>col_totals</th>\n",
       "      <td>38190</td>\n",
       "      <td>7628</td>\n",
       "      <td>45818</td>\n",
       "    </tr>\n",
       "  </tbody>\n",
       "</table>\n",
       "</div>"
      ],
      "text/plain": [
       "            Brak genu  Mają gen  row_totals\n",
       "Kraj 1           6400      1150        7550\n",
       "Kraj 2           5450      1300        6750\n",
       "Kraj 3          18200      3510       21710\n",
       "Kraj 4           8140      1668        9808\n",
       "col_totals      38190      7628       45818"
      ]
     },
     "execution_count": 3,
     "metadata": {},
     "output_type": "execute_result"
    }
   ],
   "source": [
    "data1 = np.concatenate((data,data.sum(axis=1)[:,None]),axis=1)\n",
    "data1 = np.concatenate((data1,data1.sum(axis=0)[:,None].T),axis=0)\n",
    "\n",
    "data_tab = pd.DataFrame(data1)\n",
    "data_tab.columns = [\"Brak genu\",\"Mają gen\",\"row_totals\"]\n",
    "data_tab.index = [\"Kraj 1\",\"Kraj 2\",\"Kraj 3\",\"Kraj 4\",\"col_totals\"]\n",
    "\n",
    "observed = pd.DataFrame(data)\n",
    "observed.columns = [\"Brak genu\",\"Mają gen\"]\n",
    "observed.index = [\"Kraj 1\",\"Kraj 2\",\"Kraj 3\",\"Kraj 4\"]\n",
    "data_tab"
   ]
  },
  {
   "cell_type": "code",
   "execution_count": 4,
   "metadata": {},
   "outputs": [
    {
     "data": {
      "text/html": [
       "<div>\n",
       "<style scoped>\n",
       "    .dataframe tbody tr th:only-of-type {\n",
       "        vertical-align: middle;\n",
       "    }\n",
       "\n",
       "    .dataframe tbody tr th {\n",
       "        vertical-align: top;\n",
       "    }\n",
       "\n",
       "    .dataframe thead th {\n",
       "        text-align: right;\n",
       "    }\n",
       "</style>\n",
       "<table border=\"1\" class=\"dataframe\">\n",
       "  <thead>\n",
       "    <tr style=\"text-align: right;\">\n",
       "      <th></th>\n",
       "      <th>Brak genu</th>\n",
       "      <th>Mają gen</th>\n",
       "    </tr>\n",
       "  </thead>\n",
       "  <tbody>\n",
       "    <tr>\n",
       "      <th>Kraj 1</th>\n",
       "      <td>6400</td>\n",
       "      <td>1150</td>\n",
       "    </tr>\n",
       "    <tr>\n",
       "      <th>Kraj 2</th>\n",
       "      <td>5450</td>\n",
       "      <td>1300</td>\n",
       "    </tr>\n",
       "    <tr>\n",
       "      <th>Kraj 3</th>\n",
       "      <td>18200</td>\n",
       "      <td>3510</td>\n",
       "    </tr>\n",
       "    <tr>\n",
       "      <th>Kraj 4</th>\n",
       "      <td>8140</td>\n",
       "      <td>1668</td>\n",
       "    </tr>\n",
       "  </tbody>\n",
       "</table>\n",
       "</div>"
      ],
      "text/plain": [
       "        Brak genu  Mają gen\n",
       "Kraj 1       6400      1150\n",
       "Kraj 2       5450      1300\n",
       "Kraj 3      18200      3510\n",
       "Kraj 4       8140      1668"
      ]
     },
     "execution_count": 4,
     "metadata": {},
     "output_type": "execute_result"
    }
   ],
   "source": [
    "observed"
   ]
  },
  {
   "cell_type": "markdown",
   "metadata": {},
   "source": [
    "# Wylicz wartości oczekiwane"
   ]
  },
  {
   "cell_type": "code",
   "execution_count": 5,
   "metadata": {},
   "outputs": [
    {
     "data": {
      "text/html": [
       "<div>\n",
       "<style scoped>\n",
       "    .dataframe tbody tr th:only-of-type {\n",
       "        vertical-align: middle;\n",
       "    }\n",
       "\n",
       "    .dataframe tbody tr th {\n",
       "        vertical-align: top;\n",
       "    }\n",
       "\n",
       "    .dataframe thead th {\n",
       "        text-align: right;\n",
       "    }\n",
       "</style>\n",
       "<table border=\"1\" class=\"dataframe\">\n",
       "  <thead>\n",
       "    <tr style=\"text-align: right;\">\n",
       "      <th></th>\n",
       "      <th>Brak genu</th>\n",
       "      <th>Mają gen</th>\n",
       "    </tr>\n",
       "  </thead>\n",
       "  <tbody>\n",
       "    <tr>\n",
       "      <th>Kraj 1</th>\n",
       "      <td>6293.039853</td>\n",
       "      <td>1256.960147</td>\n",
       "    </tr>\n",
       "    <tr>\n",
       "      <th>Kraj 2</th>\n",
       "      <td>5626.227683</td>\n",
       "      <td>1123.772317</td>\n",
       "    </tr>\n",
       "    <tr>\n",
       "      <th>Kraj 3</th>\n",
       "      <td>18095.615260</td>\n",
       "      <td>3614.384740</td>\n",
       "    </tr>\n",
       "    <tr>\n",
       "      <th>Kraj 4</th>\n",
       "      <td>8175.117203</td>\n",
       "      <td>1632.882797</td>\n",
       "    </tr>\n",
       "  </tbody>\n",
       "</table>\n",
       "</div>"
      ],
      "text/plain": [
       "           Brak genu     Mają gen\n",
       "Kraj 1   6293.039853  1256.960147\n",
       "Kraj 2   5626.227683  1123.772317\n",
       "Kraj 3  18095.615260  3614.384740\n",
       "Kraj 4   8175.117203  1632.882797"
      ]
     },
     "execution_count": 5,
     "metadata": {},
     "output_type": "execute_result"
    }
   ],
   "source": [
    "expected =  np.outer(data_tab[\"row_totals\"][0:4],           # suma liczebności i-tego wiersza * suma liczebności j-tej kolumny\n",
    "                     data_tab.loc[\"col_totals\"][0:2]) / data_tab[\"row_totals\"][4] # przez liczebność całości\n",
    "\n",
    "expected = pd.DataFrame(expected)\n",
    "\n",
    "expected.columns = [\"Brak genu\",\"Mają gen\"]\n",
    "expected.index = [\"Kraj 1\",\"Kraj 2\",\"Kraj 3\",\"Kraj 4\"]\n",
    "\n",
    "expected"
   ]
  },
  {
   "cell_type": "markdown",
   "metadata": {},
   "source": [
    "# Oblicz statystykę testową\n",
    "$$\n",
    "V = \\sum_{i} \\sum_{j} \\frac{(n_{ij} - e_{ij})^2}{e_{ij}}  \\thicksim \\chi_{(k-1)(s-1)}^2\n",
    "$$"
   ]
  },
  {
   "cell_type": "code",
   "execution_count": 6,
   "metadata": {},
   "outputs": [
    {
     "name": "stdout",
     "output_type": "stream",
     "text": [
      "48.598121834120214\n"
     ]
    }
   ],
   "source": [
    "V = (((observed-expected)**2)/expected).sum().sum()\n",
    "print(V)"
   ]
  },
  {
   "cell_type": "markdown",
   "metadata": {},
   "source": [
    "# Oblicz p-wartość"
   ]
  },
  {
   "cell_type": "code",
   "execution_count": 8,
   "metadata": {},
   "outputs": [
    {
     "name": "stdout",
     "output_type": "stream",
     "text": [
      "P value\n",
      "1.5884638049357136e-10\n"
     ]
    }
   ],
   "source": [
    "p_value = 1 - stats.chi2.cdf(x=V, df=3)\n",
    "print(\"P value\")\n",
    "print(p_value)"
   ]
  },
  {
   "cell_type": "markdown",
   "metadata": {},
   "source": [
    "# Sprawdź poprawność wykonanych obliczeń"
   ]
  },
  {
   "cell_type": "code",
   "execution_count": 9,
   "metadata": {},
   "outputs": [
    {
     "name": "stdout",
     "output_type": "stream",
     "text": [
      "48.59812183412021\n",
      "1.5884640327867686e-10\n",
      "3\n",
      "[[ 6293.03985333  1256.96014667]\n",
      " [ 5626.22768344  1123.77231656]\n",
      " [18095.61526038  3614.38473962]\n",
      " [ 8175.11720285  1632.88279715]]\n"
     ]
    }
   ],
   "source": [
    "V, p, dof, expected = stats.chi2_contingency(data)\n",
    "print(V)\n",
    "print(p)\n",
    "print(dof)\n",
    "print(expected)"
   ]
  },
  {
   "cell_type": "code",
   "execution_count": 11,
   "metadata": {},
   "outputs": [
    {
     "data": {
      "text/plain": [
       "4"
      ]
     },
     "execution_count": 11,
     "metadata": {},
     "output_type": "execute_result"
    }
   ],
   "source": []
  },
  {
   "cell_type": "code",
   "execution_count": null,
   "metadata": {},
   "outputs": [],
   "source": []
  }
 ],
 "metadata": {
  "kernelspec": {
   "display_name": "Python 3",
   "language": "python",
   "name": "python3"
  },
  "language_info": {
   "codemirror_mode": {
    "name": "ipython",
    "version": 3
   },
   "file_extension": ".py",
   "mimetype": "text/x-python",
   "name": "python",
   "nbconvert_exporter": "python",
   "pygments_lexer": "ipython3",
   "version": "3.7.6"
  }
 },
 "nbformat": 4,
 "nbformat_minor": 4
}
