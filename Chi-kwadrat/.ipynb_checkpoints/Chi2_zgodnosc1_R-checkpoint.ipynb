{
 "cells": [
  {
   "cell_type": "markdown",
   "metadata": {},
   "source": [
    "# Premia"
   ]
  },
  {
   "cell_type": "markdown",
   "metadata": {},
   "source": [
    "Załóżmy, że co jakiś czas w pewnej firmie szef przyznaje losowej osobie premię. \n",
    "\n",
    "Cel: sprawdzenie, czy premie rzeczywiście są przyznawane losowej osobie (z założeniem alfa = 0,05)\n",
    "\n",
    " - Ty - 8\n",
    " - Kasia - 9\n",
    " - Bartek - 5\n",
    " - Łukasz - 6\n",
    " - Aneta - 18\n",
    " - Zygmunt - 8\n",
    " - Jan - 5"
   ]
  },
  {
   "cell_type": "code",
   "execution_count": 2,
   "metadata": {},
   "outputs": [],
   "source": [
    "import numpy as np\n",
    "import pandas as pd\n",
    "from scipy import stats\n",
    "data=np.array([8,9,5,6,18,8,5])"
   ]
  },
  {
   "cell_type": "markdown",
   "metadata": {},
   "source": [
    "## Oblicz oczekiwany rozkład (ile premii wypada średnio na osobę)"
   ]
  },
  {
   "cell_type": "code",
   "execution_count": 3,
   "metadata": {},
   "outputs": [
    {
     "name": "stdout",
     "output_type": "stream",
     "text": [
      "8.428571428571429\n"
     ]
    }
   ],
   "source": [
    "expected = sum(data)/data.size\n",
    "print(expected)"
   ]
  },
  {
   "cell_type": "markdown",
   "metadata": {},
   "source": [
    "## Oblicz wartość statystki testowej\n",
    "\n",
    "$$\n",
    "V = \\sum_{i} \\frac{(o_i - e_i)^2}{e_i}  \\thicksim \\chi_{f-1}^2\n",
    "$$\n",
    "\n",
    "Ma ona rozkład chi kwadrat z $f-1$ stopniami swobody (gdzie $f$ to liczba klas)."
   ]
  },
  {
   "cell_type": "code",
   "execution_count": 4,
   "metadata": {},
   "outputs": [
    {
     "name": "stdout",
     "output_type": "stream",
     "text": [
      "14.440677966101694\n"
     ]
    }
   ],
   "source": [
    "V = ((data-expected)**2/expected).sum()\n",
    "print(V)"
   ]
  },
  {
   "cell_type": "markdown",
   "metadata": {},
   "source": [
    "# Oblicz p-value"
   ]
  },
  {
   "cell_type": "code",
   "execution_count": 5,
   "metadata": {},
   "outputs": [
    {
     "name": "stdout",
     "output_type": "stream",
     "text": [
      "P value\n",
      "0.025082795571600314\n"
     ]
    }
   ],
   "source": [
    "p_value = 1 - stats.chi2.cdf(x=V,df= data.size-1)\n",
    "print(\"P value\")\n",
    "print(p_value)"
   ]
  },
  {
   "cell_type": "code",
   "execution_count": 6,
   "metadata": {},
   "outputs": [
    {
     "name": "stdout",
     "output_type": "stream",
     "text": [
      "14.440677966101694\n",
      "0.025082795571600282\n"
     ]
    }
   ],
   "source": [
    "V, p = stats.chisquare(data)\n",
    "print(V)\n",
    "print(p)"
   ]
  },
  {
   "cell_type": "markdown",
   "metadata": {},
   "source": [
    "# Wnioski: (hipotezę zerową przyjmujemy/odrzucamy)"
   ]
  },
  {
   "cell_type": "markdown",
   "metadata": {},
   "source": [
    "Hipotezę zerową odrzucamy (wygląda na to, że szef nie przyznaje premii losowo)"
   ]
  }
 ],
 "metadata": {
  "kernelspec": {
   "display_name": "Python 3",
   "language": "python",
   "name": "python3"
  },
  "language_info": {
   "codemirror_mode": {
    "name": "ipython",
    "version": 3
   },
   "file_extension": ".py",
   "mimetype": "text/x-python",
   "name": "python",
   "nbconvert_exporter": "python",
   "pygments_lexer": "ipython3",
   "version": "3.7.6"
  }
 },
 "nbformat": 4,
 "nbformat_minor": 4
}
