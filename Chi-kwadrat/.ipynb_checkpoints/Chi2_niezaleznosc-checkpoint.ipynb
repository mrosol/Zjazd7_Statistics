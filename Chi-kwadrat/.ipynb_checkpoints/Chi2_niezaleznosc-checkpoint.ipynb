{
 "cells": [
  {
   "cell_type": "markdown",
   "metadata": {},
   "source": [
    "# Test niezależności chi-kwadrat\n",
    "Załóżmy, że przeprowadzono międzynarodowe badania z zakresu genetyki, w których naukowcy badali obecność u ludzi genu odpowiedzialnego za rozumienie rachunku różniczkowego.\n",
    "\n",
    "W przypadku danych z poniższej tabeli sprawdzić czy to, że ktoś posiada gen odpowiedzialny za zrozumienie rachunku różniczkowego zależy od kraju pochodzenia:\n",
    "\n",
    "<table>\n",
    "  <tr>\n",
    "    <th></th>\n",
    "    <td>Nie posiadają genu</td> \n",
    "    <td>Posiadają gen</td>\n",
    "  </tr>\n",
    "  <tr>\n",
    "    <td>Kraj 1</td>\n",
    "    <td>6400</td>\n",
    "    <td>1150</td>\n",
    "  </tr>\n",
    "  <tr>\n",
    "    <td>Kraj 2</td>\n",
    "    <td>5450</td>\n",
    "    <td>1300</td>\n",
    "  </tr>\n",
    "  <tr>\n",
    "    <td>Kraj 3</td>\n",
    "    <td>18200</td>\n",
    "    <td>3510</td>\n",
    "  </tr>\n",
    "  <tr>\n",
    "    <td>Kraj 4</td>\n",
    "    <td>8140</td>\n",
    "    <td>1668</td>\n",
    "  </tr>\n",
    "</table>\n",
    "    \n",
    "H0 - Obecność danego genu nie zależy od kraju pochodzenia\n",
    "\n",
    "H1 - Obecność genu zależy od kraju pochodzenia"
   ]
  },
  {
   "cell_type": "code",
   "execution_count": null,
   "metadata": {},
   "outputs": [],
   "source": [
    "import numpy as np\n",
    "import pandas as pd\n",
    "from scipy import stats\n",
    "data = np.array([[6400,1150],[5450,1300],[18200,3510],[8140,1668]])\n"
   ]
  },
  {
   "cell_type": "code",
   "execution_count": null,
   "metadata": {},
   "outputs": [],
   "source": [
    "data1 = np.concatenate((data,data.sum(axis=1)[:,None]),axis=1)\n",
    "data1 = np.concatenate((data1,data1.sum(axis=0)[:,None].T),axis=0)\n",
    "\n",
    "data_tab = pd.DataFrame(data1)\n",
    "data_tab.columns = [\"Brak genu\",\"Mają gen\",\"row_totals\"]\n",
    "data_tab.index = [\"Kraj 1\",\"Kraj 2\",\"Kraj 3\",\"Kraj 4\",\"col_totals\"]\n",
    "\n",
    "observed = pd.DataFrame(data)\n",
    "observed.columns = [\"Brak genu\",\"Mają gen\"]\n",
    "observed.index = [\"Kraj 1\",\"Kraj 2\",\"Kraj 3\",\"Kraj 4\"]\n",
    "data_tab"
   ]
  },
  {
   "cell_type": "code",
   "execution_count": null,
   "metadata": {},
   "outputs": [],
   "source": [
    "observed"
   ]
  },
  {
   "cell_type": "markdown",
   "metadata": {},
   "source": [
    "# Wylicz wartości oczekiwane\n",
    "(suma liczebności i-tego wiersza * suma liczebności j-tej kolumny) / liczebność całkowita\n",
    "\n",
    "pomocna funkcja - np.outer"
   ]
  },
  {
   "cell_type": "code",
   "execution_count": null,
   "metadata": {},
   "outputs": [],
   "source": []
  },
  {
   "cell_type": "markdown",
   "metadata": {},
   "source": [
    "# Oblicz statystykę testową\n",
    "$$\n",
    "V = \\sum_{i} \\sum_{j} \\frac{(n_{ij} - e_{ij})^2}{e_{ij}}  \\thicksim \\chi_{(k-1)(s-1)}^2\n",
    "$$"
   ]
  },
  {
   "cell_type": "code",
   "execution_count": null,
   "metadata": {},
   "outputs": [],
   "source": []
  },
  {
   "cell_type": "markdown",
   "metadata": {},
   "source": [
    "# Oblicz p-wartość"
   ]
  },
  {
   "cell_type": "code",
   "execution_count": null,
   "metadata": {},
   "outputs": [],
   "source": []
  },
  {
   "cell_type": "markdown",
   "metadata": {},
   "source": [
    "# Sprawdź poprawność wykonanych obliczeń"
   ]
  },
  {
   "cell_type": "code",
   "execution_count": null,
   "metadata": {},
   "outputs": [],
   "source": [
    "V, p, dof, expected = stats.chi2_contingency(data)\n",
    "print(V)\n",
    "print(p)\n",
    "print(dof)\n",
    "print(expected)"
   ]
  }
 ],
 "metadata": {
  "kernelspec": {
   "display_name": "Python 3",
   "language": "python",
   "name": "python3"
  },
  "language_info": {
   "codemirror_mode": {
    "name": "ipython",
    "version": 3
   },
   "file_extension": ".py",
   "mimetype": "text/x-python",
   "name": "python",
   "nbconvert_exporter": "python",
   "pygments_lexer": "ipython3",
   "version": "3.7.6"
  }
 },
 "nbformat": 4,
 "nbformat_minor": 4
}
