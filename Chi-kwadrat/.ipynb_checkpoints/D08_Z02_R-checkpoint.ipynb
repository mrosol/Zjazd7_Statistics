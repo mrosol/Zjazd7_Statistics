{
 "cells": [
  {
   "cell_type": "code",
   "execution_count": null,
   "metadata": {},
   "outputs": [],
   "source": [
    "import numpy as np\n",
    "import pandas as pd\n",
    "import scipy.stats as stats"
   ]
  },
  {
   "cell_type": "markdown",
   "metadata": {},
   "source": [
    "# Zadanie \n",
    "Wykonaj test chi-kwadrat w celu sprawdzenia czy dane demograficzne w USA mają ten sam rozkład co dane w Minesockie.\n",
    "Użyj danych wygenerowanych poniżej:"
   ]
  },
  {
   "cell_type": "code",
   "execution_count": null,
   "metadata": {},
   "outputs": [],
   "source": [
    "national = {'count':[100000,60000,50000,15000,35000]}\n",
    "idx = [\"white\", \"hispanic\", \"black\", \"asian\", \"other\"]\n",
    "national_table = pd.DataFrame(national,index=idx)\n",
    "minnesota = {'count':[600,300,250,75,150]}\n",
    "minnesota_table = pd.DataFrame(minnesota,index=idx)\n",
    "print( \"National\")\n",
    "print(national_table)\n",
    "print(\" \")\n",
    "print( \"Minnesota\")\n",
    "print(minnesota_table)"
   ]
  },
  {
   "cell_type": "markdown",
   "metadata": {},
   "source": [
    "## Najpierw musimy wyliczyć przewidywany rozkład"
   ]
  },
  {
   "cell_type": "markdown",
   "metadata": {},
   "source": [
    "USA tak samo jak minesota"
   ]
  },
  {
   "cell_type": "code",
   "execution_count": null,
   "metadata": {},
   "outputs": [],
   "source": [
    "observed = national_table\n",
    "print(observed)\n",
    "print(\"...\")\n",
    "minesota_ratios = minnesota_table/np.sum(minnesota['count'])  # Get population ratios\n",
    "print(minesota_ratios)\n",
    "print(\"...\")\n",
    "expected = minesota_ratios * np.sum(national['count'])   # Get expected counts\n",
    "print(expected)"
   ]
  },
  {
   "cell_type": "markdown",
   "metadata": {},
   "source": [
    "## Wykonujemy test chi-kwadrat"
   ]
  },
  {
   "cell_type": "code",
   "execution_count": null,
   "metadata": {},
   "outputs": [],
   "source": [
    "V,p = stats.chisquare(f_obs= observed,f_exp= expected) \n",
    "\n",
    "print(V)\n",
    "print(p)"
   ]
  },
  {
   "cell_type": "markdown",
   "metadata": {},
   "source": [
    "# Czy dane demograficzne w Minesocie mają ten sam rozkład co dane  w USA?"
   ]
  },
  {
   "cell_type": "code",
   "execution_count": null,
   "metadata": {},
   "outputs": [],
   "source": [
    "observed = minnesota_table\n",
    "print(observed)\n",
    "print(\"...\")\n",
    "national_ratios = national_table/np.sum(national['count'])  # Get population ratios\n",
    "print(national_ratios)\n",
    "print(\"...\")\n",
    "expected = national_ratios * np.sum(minnesota['count'])   # Get expected counts\n",
    "print(expected)\n",
    "\n",
    "V, p = stats.chisquare(f_obs= observed,f_exp= expected) \n",
    "print(V)\n",
    "print(p)"
   ]
  },
  {
   "cell_type": "code",
   "execution_count": null,
   "metadata": {},
   "outputs": [],
   "source": []
  },
  {
   "cell_type": "code",
   "execution_count": null,
   "metadata": {},
   "outputs": [],
   "source": []
  },
  {
   "cell_type": "code",
   "execution_count": null,
   "metadata": {},
   "outputs": [],
   "source": []
  }
 ],
 "metadata": {
  "kernelspec": {
   "display_name": "Python 3",
   "language": "python",
   "name": "python3"
  },
  "language_info": {
   "codemirror_mode": {
    "name": "ipython",
    "version": 3
   },
   "file_extension": ".py",
   "mimetype": "text/x-python",
   "name": "python",
   "nbconvert_exporter": "python",
   "pygments_lexer": "ipython3",
   "version": "3.7.6"
  }
 },
 "nbformat": 4,
 "nbformat_minor": 2
}
