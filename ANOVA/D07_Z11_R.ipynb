{
 "cells": [
  {
   "cell_type": "markdown",
   "metadata": {
    "collapsed": true
   },
   "source": [
    "# Zadanie 1\n",
    "Jako przykład rozważmy dana zawierające poziomy przepływu ($\\mu g/l$) w trzech grupach pacjentów z zastawką serca z różnymi poziomami wentylacji azotem. W analizie wzięło udział 22 osoby (https://github.com/przem85/statistics/blob/master/D7/ANOVA1.txt).\n",
    "\n",
    "Zerową hipoteza dla ANOVA mówi, że wszystkie grupy pochodzą z tej samej populacji. \n"
   ]
  },
  {
   "cell_type": "code",
   "execution_count": 21,
   "metadata": {},
   "outputs": [],
   "source": [
    "import numpy as np\n",
    "import scipy.stats as stats\n",
    "import pandas as pd\n",
    "import matplotlib.pyplot as plt"
   ]
  },
  {
   "cell_type": "code",
   "execution_count": 22,
   "metadata": {},
   "outputs": [],
   "source": [
    "data = np.loadtxt('ANOVA1.txt')\n",
    " # Sort them into groups, according to column 1\n",
    "group1 = data[data[:,1]==1,0]\n",
    "group2 = data[data[:,1]==2,0]\n",
    "group3 = data[data[:,1]==3,0]"
   ]
  },
  {
   "cell_type": "code",
   "execution_count": 23,
   "metadata": {
    "scrolled": true
   },
   "outputs": [
    {
     "data": {
      "text/plain": [
       "Text(0, 0.5, 'Feature')"
      ]
     },
     "execution_count": 23,
     "metadata": {},
     "output_type": "execute_result"
    },
    {
     "data": {
      "image/png": "[encoded data removed]",
      "text/plain": [
       "<Figure size 432x288 with 1 Axes>"
      ]
     },
     "metadata": {
      "needs_background": "light"
     },
     "output_type": "display_data"
    }
   ],
   "source": [
    "data1 = pd.DataFrame({'Feature':data[:,0],'Group':data[:,1]})\n",
    "data1.boxplot(by = 'Group')\n",
    "plt.title('')\n",
    "plt.ylabel('Feature')"
   ]
  },
  {
   "cell_type": "code",
   "execution_count": 24,
   "metadata": {},
   "outputs": [
    {
     "name": "stdout",
     "output_type": "stream",
     "text": [
      "[251. 275. 291. 347. 354. 380. 392.]\n",
      "[206. 210. 226. 249. 255. 273. 285.]\n",
      "[295. 309. 241. 258. 270. 293. 328.]\n"
     ]
    }
   ],
   "source": [
    "print(group1)\n",
    "print(group2)\n",
    "print(group3)"
   ]
  },
  {
   "cell_type": "markdown",
   "metadata": {},
   "source": [
    "## Saprawdzamy założenie o równości variancii "
   ]
  },
  {
   "cell_type": "code",
   "execution_count": 25,
   "metadata": {},
   "outputs": [],
   "source": [
    "# First, check if the variances are equal, with the \"Levene\"-test\n",
    "(W,p) = stats.levene(group1, group2, group3)\n",
    "if p<0.05:\n",
    "    print(('Warning: the p-value of the Levene test is <0.05: p={0}'.format(p)))"
   ]
  },
  {
   "cell_type": "markdown",
   "metadata": {},
   "source": [
    "## Wykonujemy ANOVE jednoczynnikową "
   ]
  },
  {
   "cell_type": "code",
   "execution_count": 26,
   "metadata": {},
   "outputs": [],
   "source": [
    "# Do the one-way ANOVA\n",
    "F_statistic, pVal = stats.f_oneway(group1, group2, group3)"
   ]
  },
  {
   "cell_type": "code",
   "execution_count": 27,
   "metadata": {},
   "outputs": [
    {
     "name": "stdout",
     "output_type": "stream",
     "text": [
      "(7.61054311210921, 0.004024649740530089)\n",
      "One of the groups is significantly different.\n"
     ]
    }
   ],
   "source": [
    "print((F_statistic, pVal))\n",
    "if pVal < 0.05:\n",
    "    print('One of the groups is significantly different.')"
   ]
  },
  {
   "cell_type": "markdown",
   "metadata": {},
   "source": [
    "## Bardziej szczegółowym wynikiem ANOVA można otrzymać za pomom modelowania statystycznego:"
   ]
  },
  {
   "cell_type": "code",
   "execution_count": 28,
   "metadata": {
    "scrolled": false
   },
   "outputs": [],
   "source": [
    "from statsmodels.formula.api import ols\n",
    "from statsmodels.stats.anova import anova_lm\n",
    "# Elegant alternative implementation, with pandas & statsmodels\n",
    "df = pd.DataFrame(data, columns=['value', 'treatment'])    \n",
    "#df"
   ]
  },
  {
   "cell_type": "code",
   "execution_count": 29,
   "metadata": {},
   "outputs": [
    {
     "name": "stdout",
     "output_type": "stream",
     "text": [
      "                df        sum_sq       mean_sq         F    PR(>F)\n",
      "C(treatment)   2.0  24529.142857  12264.571429  7.610543  0.004025\n",
      "Residual      18.0  29007.428571   1611.523810       NaN       NaN\n"
     ]
    }
   ],
   "source": [
    "model = ols('value ~ C(treatment)', df).fit()\n",
    "anovaResults = anova_lm(model)\n",
    "print(anovaResults)"
   ]
  },
  {
   "cell_type": "markdown",
   "metadata": {},
   "source": [
    "# Możemy policzyć ten test na piechotę"
   ]
  },
  {
   "cell_type": "code",
   "execution_count": 30,
   "metadata": {},
   "outputs": [],
   "source": [
    "data = np.loadtxt('ANOVA1.txt')"
   ]
  },
  {
   "cell_type": "code",
   "execution_count": 31,
   "metadata": {},
   "outputs": [],
   "source": [
    "# Convert them to pandas-forman and group them by their group value\n",
    "df = pd.DataFrame(data, columns=['values', 'group'])\n",
    "groups = df.groupby('group')"
   ]
  },
  {
   "cell_type": "code",
   "execution_count": 32,
   "metadata": {},
   "outputs": [
    {
     "data": {
      "text/plain": [
       "53536.571428571435"
      ]
     },
     "execution_count": 32,
     "metadata": {},
     "output_type": "execute_result"
    }
   ],
   "source": [
    "# The \"total sum-square\" is the squared deviation from the mean\n",
    "ss_total = np.sum((df['values']-df['values'].mean())**2)\n",
    "ss_total"
   ]
  },
  {
   "cell_type": "markdown",
   "metadata": {},
   "source": [
    "$$\n",
    "SS_{Error}= \\sum_{i} \\sum_{j} {(Y_{ij} - Ῡ_{i})^2}\n",
    "$$\n",
    "\n",
    "$$\n",
    "SS_{Treatment}= n*\\sum_{i} {(Ῡ_{i} - Ῡ)^2}\n",
    "$$"
   ]
  },
  {
   "cell_type": "code",
   "execution_count": 33,
   "metadata": {},
   "outputs": [
    {
     "name": "stdout",
     "output_type": "stream",
     "text": [
      "1.0\n",
      "2.0\n",
      "3.0\n",
      "73587.42857142862\n",
      "29007.428571428572\n"
     ]
    }
   ],
   "source": [
    "# Calculate ss_treatment and  ss_error\n",
    "(ss_treatments, ss_error) = (0, 0)\n",
    "for val, group in groups:\n",
    "    print(val)\n",
    "    ss_error += sum((group['values'] - group['values'].mean())**2)\n",
    "    ss_treatments +=  (group['values'].mean() - df['values'].mean())**2\n",
    "print(ss_treatments * len(data))\n",
    "print(ss_error)"
   ]
  },
  {
   "cell_type": "code",
   "execution_count": 34,
   "metadata": {},
   "outputs": [
    {
     "data": {
      "text/plain": [
       "3504.163265306125"
      ]
     },
     "execution_count": 34,
     "metadata": {},
     "output_type": "execute_result"
    }
   ],
   "source": [
    "ss_treatments"
   ]
  },
  {
   "cell_type": "markdown",
   "metadata": {},
   "source": [
    "Średnie kwadraty (mean squares) (MS) to SS podzielone przez odpowiednie stopnie swobody (DF)."
   ]
  },
  {
   "cell_type": "code",
   "execution_count": 15,
   "metadata": {},
   "outputs": [],
   "source": [
    "df_groups = len(groups)-1\n",
    "df_residuals = len(data)-len(groups)"
   ]
  },
  {
   "cell_type": "markdown",
   "metadata": {},
   "source": [
    "Otrzymujemy również wartość statystyki $F$:\n",
    "$$\n",
    "F=\\frac{MS_{Treatments}}{MS_{Error}}=\\frac{SS_{Treatments}/(n_{groups}-1)}{SS_{Error}/(n_{total}-n_{groups})}\n",
    "$$"
   ]
  },
  {
   "cell_type": "code",
   "execution_count": 16,
   "metadata": {},
   "outputs": [
    {
     "name": "stdout",
     "output_type": "stream",
     "text": [
      "ANOVA-Results: F = 7.610543112109219, and p=0.004024649740530066\n"
     ]
    }
   ],
   "source": [
    "F = (ss_treatments/df_groups) / (ss_error/df_residuals)\n",
    "df = stats.f(df_groups,df_residuals)\n",
    "p = df.sf(F)\n",
    "print(('ANOVA-Results: F = {0}, and p={1}'.format(F, p)))"
   ]
  },
  {
   "cell_type": "code",
   "execution_count": null,
   "metadata": {},
   "outputs": [],
   "source": []
  }
 ],
 "metadata": {
  "kernelspec": {
   "display_name": "Python 3",
   "language": "python",
   "name": "python3"
  },
  "language_info": {
   "codemirror_mode": {
    "name": "ipython",
    "version": 3
   },
   "file_extension": ".py",
   "mimetype": "text/x-python",
   "name": "python",
   "nbconvert_exporter": "python",
   "pygments_lexer": "ipython3",
   "version": "3.7.6"
  }
 },
 "nbformat": 4,
 "nbformat_minor": 2
}
