{
 "cells": [
  {
   "cell_type": "code",
   "execution_count": 1,
   "metadata": {},
   "outputs": [],
   "source": [
    "import numpy as np\n",
    "import matplotlib.pyplot as plt\n",
    "from scipy import stats\n",
    "import pandas as pd\n",
    "from statsmodels.formula.api import ols\n",
    "from statsmodels.stats.anova import anova_lm\n",
    "from statsmodels.stats.multicomp import (pairwise_tukeyhsd, MultiComparison)\n",
    "from statsmodels.stats.libqsturng import psturng"
   ]
  },
  {
   "cell_type": "markdown",
   "metadata": {},
   "source": [
    "# Zadanie \n",
    "Pewna grupa poddała się trzem testom.\n",
    "Na podstawie poniższych wyników chcielibyśmy zweryfikować hipotezę zerowa mówiącą, że środni wynik w tych trzech testach jest taki sam."
   ]
  },
  {
   "cell_type": "code",
   "execution_count": 2,
   "metadata": {},
   "outputs": [],
   "source": [
    "df = pd.DataFrame({'StressReduction':[2,2,3,4,4,5,3,4,4,4,4,4,3,5,4,1,1,2,3,3,1,2,2,2,3,2,3,1,3,1],\n",
    "                    'Treatment': ['mental','mental','mental','mental','mental','mental','mental','mental','mental','mental',\n",
    "                                  'physical','physical','physical','physical','physical','physical','physical','physical','physical','physical',\n",
    "                                  'medical','medical','medical','medical','medical','medical','medical','medical','medical','medical']})\n"
   ]
  },
  {
   "cell_type": "code",
   "execution_count": 3,
   "metadata": {},
   "outputs": [],
   "source": [
    "d1=df[\"StressReduction\"][df[\"Treatment\"]=='mental']\n",
    "d2=df[\"StressReduction\"][df[\"Treatment\"]=='physical']\n",
    "d3=df[\"StressReduction\"][df[\"Treatment\"]=='medical']"
   ]
  },
  {
   "cell_type": "code",
   "execution_count": 4,
   "metadata": {},
   "outputs": [
    {
     "data": {
      "image/png": "[encoded data removed]",
      "text/plain": [
       "<Figure size 432x288 with 1 Axes>"
      ]
     },
     "metadata": {
      "needs_background": "light"
     },
     "output_type": "display_data"
    }
   ],
   "source": [
    "import seaborn as sns\n",
    "import matplotlib.pyplot as plt\n",
    "plt.boxplot([d1,d2,d3], meanline=True)\n",
    "plt.show()"
   ]
  },
  {
   "cell_type": "code",
   "execution_count": 5,
   "metadata": {},
   "outputs": [
    {
     "name": "stdout",
     "output_type": "stream",
     "text": [
      "0.4567120561411028\n"
     ]
    }
   ],
   "source": [
    "# First, check if the variances are equal, with the \"Levene\"-test\n",
    "(W,p) = stats.levene(d1, d2, d3)\n",
    "print(p)\n",
    "if p<0.05:\n",
    "    print(('Warning: the p-value of the Levene test is <0.05: p={0}'.format(p)))"
   ]
  },
  {
   "cell_type": "markdown",
   "metadata": {},
   "source": [
    "# Wykonujemy test ANOVA"
   ]
  },
  {
   "cell_type": "code",
   "execution_count": 7,
   "metadata": {},
   "outputs": [
    {
     "name": "stdout",
     "output_type": "stream",
     "text": [
      "One-way ANOVA\n",
      "=============\n",
      "F value: 5.163934426229508\n",
      "P value: 0.012617190941750378 \n",
      "\n",
      "                df     sum_sq   mean_sq         F    PR(>F)\n",
      "C(Treatment)   2.0  11.666667  5.833333  5.163934  0.012617\n",
      "Residual      27.0  30.500000  1.129630       NaN       NaN\n",
      "One of the groups is different.\n"
     ]
    }
   ],
   "source": [
    "f, p = stats.f_oneway(d1,d2,d3)\n",
    " \n",
    "print ('One-way ANOVA')\n",
    "print ('=============')\n",
    " \n",
    "print ('F value:', f)\n",
    "print ('P value:', p, '\\n')\n",
    "\n",
    "model = ols('StressReduction ~ C(Treatment)',df).fit()\n",
    "anovaResults =  anova_lm(model)\n",
    "print(anovaResults)\n",
    "if anovaResults['PR(>F)'][0] < 0.05:\n",
    "    print('One of the groups is different.')"
   ]
  },
  {
   "cell_type": "markdown",
   "metadata": {},
   "source": [
    "## Wniosek\n",
    "Ponieważ, odrzucamy hipotezę zerową o równości średnich zastanawiamy się czy któryś ze strzelców nie radzi sobie istotnie lepiej.\n",
    "\n",
    "# Wykonujemy analizę post hoc"
   ]
  },
  {
   "cell_type": "code",
   "execution_count": 8,
   "metadata": {},
   "outputs": [],
   "source": [
    "#Then, do the multiple testing\n",
    "multiComp = MultiComparison(df['StressReduction'], df['Treatment'])"
   ]
  },
  {
   "cell_type": "code",
   "execution_count": 9,
   "metadata": {},
   "outputs": [
    {
     "name": "stdout",
     "output_type": "stream",
     "text": [
      " Multiple Comparison of Means - Tukey HSD, FWER=0.05  \n",
      "======================================================\n",
      " group1  group2  meandiff p-adj   lower  upper  reject\n",
      "------------------------------------------------------\n",
      "medical   mental      1.5 0.0105  0.3217 2.6783   True\n",
      "medical physical      1.0 0.1079 -0.1783 2.1783  False\n",
      " mental physical     -0.5 0.5498 -1.6783 0.6783  False\n",
      "------------------------------------------------------\n"
     ]
    }
   ],
   "source": [
    "print((multiComp.tukeyhsd().summary()))"
   ]
  },
  {
   "cell_type": "code",
   "execution_count": 12,
   "metadata": {},
   "outputs": [
    {
     "name": "stdout",
     "output_type": "stream",
     "text": [
      "['medical' 'mental' 'physical']\n"
     ]
    }
   ],
   "source": [
    "# Calculate the p-values:\n",
    "res2 = pairwise_tukeyhsd(df['StressReduction'], df['Treatment'])\n",
    "#http://cleverowl.uk/2015/07/01/using-one-way-anova-and-tukeys-test-to-compare-data-sets/\n",
    "#Należy również zauważyć, że funkcja tukeyhsd() ma parametr alfa, \n",
    "#którego nie określamy wyraźnie, \n",
    "#ponieważ jesteśmy zadowoleni ze swojej wartości domyślnej (α = 0.05α = 0.05).\n",
    "#df = pd.DataFrame(data)\n",
    "numData = len(df)\n",
    "numTreatments = len(df.Treatment.unique())\n",
    "dof = numData - numTreatments\n",
    "# Show the group names\n",
    "print((multiComp.groupsunique))\n",
    "# Generate a print -------------------\n",
    "    \n"
   ]
  },
  {
   "cell_type": "code",
   "execution_count": 14,
   "metadata": {},
   "outputs": [
    {
     "data": {
      "image/png": "[encoded data removed]",
      "text/plain": [
       "<Figure size 432x288 with 1 Axes>"
      ]
     },
     "metadata": {
      "needs_background": "light"
     },
     "output_type": "display_data"
    }
   ],
   "source": [
    "# Get the data\n",
    "xvals = np.arange(3)\n",
    "res2 = pairwise_tukeyhsd(df['StressReduction'], df['Treatment'])\n",
    "errors = np.ravel(np.diff(res2.confint)/2)\n",
    "\n",
    "# Plot them\n",
    "plt.plot(xvals, res2.meandiffs, 'o')\n",
    "plt.errorbar(xvals, res2.meandiffs, yerr=errors, fmt='o')\n",
    "\n",
    "# Put on labels\n",
    "pair_labels = multiComp.groupsunique[np.column_stack(res2._multicomp.pairindices)]\n",
    "labels = []\n",
    "for p_l in pair_labels:\n",
    "    labels.append(p_l[0]+' '+p_l[1])\n",
    "plt.xticks(xvals, labels)\n",
    "#plt.xticks(xvals, pair_labels)\n",
    "\n",
    "# Format the plot\n",
    "xlim = -0.5, 2.5\n",
    "plt.hlines(0, *xlim)\n",
    "plt.xlim(*xlim)\n",
    "plt.title('Multiple Comparison of Means - Tukey HSD, FWER=0.05' + '\\n Pairwise Mean Differences')          \n",
    "plt.show()"
   ]
  },
  {
   "cell_type": "code",
   "execution_count": null,
   "metadata": {},
   "outputs": [],
   "source": [
    "print(np.mean(d1))\n",
    "print(np.mean(d2))\n",
    "print(np.mean(d3))"
   ]
  },
  {
   "cell_type": "code",
   "execution_count": null,
   "metadata": {},
   "outputs": [],
   "source": []
  }
 ],
 "metadata": {
  "kernelspec": {
   "display_name": "Python 3",
   "language": "python",
   "name": "python3"
  },
  "language_info": {
   "codemirror_mode": {
    "name": "ipython",
    "version": 3
   },
   "file_extension": ".py",
   "mimetype": "text/x-python",
   "name": "python",
   "nbconvert_exporter": "python",
   "pygments_lexer": "ipython3",
   "version": "3.7.6"
  }
 },
 "nbformat": 4,
 "nbformat_minor": 2
}
