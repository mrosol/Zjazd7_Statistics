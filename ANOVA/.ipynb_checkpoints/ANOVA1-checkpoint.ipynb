{
 "cells": [
  {
   "cell_type": "code",
   "execution_count": null,
   "metadata": {},
   "outputs": [],
   "source": [
    "import numpy as np\n",
    "import scipy.stats as stats\n",
    "import pandas as pd"
   ]
  },
  {
   "cell_type": "markdown",
   "metadata": {},
   "source": [
    "Załóżmy, że chcemy zbadać, czy po pewnej zmianie na lini produkcyjnej w fabryce średnia wartość danego parametru nie uległa zmianie w finalenj wersji produktu.\n",
    "\n",
    "Grupa 1 - produkty przez zmianą w produkcji\n",
    "\n",
    "Grupa 2 - po zmianie"
   ]
  },
  {
   "cell_type": "code",
   "execution_count": null,
   "metadata": {},
   "outputs": [],
   "source": [
    "data = np.loadtxt('ANOVA_1.txt')\n",
    "group1 = data[data[:,1]==1,0]\n",
    "group2 = data[data[:,1]==2,0]\n",
    "df = pd.DataFrame({'group 1':group1, 'group 2':group2})\n",
    "df"
   ]
  },
  {
   "cell_type": "markdown",
   "metadata": {},
   "source": [
    "Porównajmy wizualnie obie grupy"
   ]
  },
  {
   "cell_type": "code",
   "execution_count": null,
   "metadata": {},
   "outputs": [],
   "source": [
    "import seaborn as sns\n",
    "import matplotlib.pyplot as plt\n",
    "sns.boxplot(data = df)"
   ]
  },
  {
   "cell_type": "markdown",
   "metadata": {},
   "source": [
    "Sprawdźmy czy wariancja jest jednakowa przy pomocy testu Levene"
   ]
  },
  {
   "cell_type": "code",
   "execution_count": null,
   "metadata": {},
   "outputs": [],
   "source": [
    "(W,p) = stats.levene(group1, group2)\n",
    "if p<0.05:\n",
    "    print(('Warning: the p-value of the Levene test is <0.05: p={0}'.format(p)))"
   ]
  },
  {
   "cell_type": "markdown",
   "metadata": {},
   "source": [
    "Wykonujemy jedoczynnikową analizę wariancji"
   ]
  },
  {
   "cell_type": "code",
   "execution_count": null,
   "metadata": {},
   "outputs": [],
   "source": [
    "F_statistic, pVal = stats.f_oneway(group1, group2)\n",
    "print(pVal)"
   ]
  },
  {
   "cell_type": "markdown",
   "metadata": {},
   "source": [
    "# Zadanie: Wylicz wartości $SS_{Treatment}$ i $SS_{Error}$, a następnie wylicz wartość statystyki testowej"
   ]
  },
  {
   "cell_type": "code",
   "execution_count": null,
   "metadata": {},
   "outputs": [],
   "source": [
    "df1 = pd.DataFrame({'value':data[:,0],'group': data[:,1]})\n",
    "groups = df1.groupby('group')"
   ]
  },
  {
   "cell_type": "markdown",
   "metadata": {},
   "source": [
    "$$\n",
    "SS_{Error}= \\sum_{i} \\sum_{j} {(Y_{ij} - Ῡ_{i})^2}\n",
    "$$\n",
    "\n",
    "$$\n",
    "SS_{Treatment}= n*\\sum_{i} {(Ῡ_{i} - Ῡ)^2}\n",
    "$$"
   ]
  },
  {
   "cell_type": "code",
   "execution_count": null,
   "metadata": {},
   "outputs": [],
   "source": []
  },
  {
   "cell_type": "markdown",
   "metadata": {},
   "source": [
    "Wyliczamy stopnie swobody:\n",
    "\n",
    "$df_{groups} = n_{group}-1$\n",
    "\n",
    "$df_{residuals} = n_{data}-n_{groups}$"
   ]
  },
  {
   "cell_type": "code",
   "execution_count": null,
   "metadata": {},
   "outputs": [],
   "source": [
    "df_groups = None\n",
    "df_residuals = None"
   ]
  },
  {
   "cell_type": "markdown",
   "metadata": {},
   "source": [
    "Wyliczamy wartość statystyki $F$:\n",
    "$$\n",
    "F=\\frac{MS_{Treatments}}{MS_{Error}}=\\frac{SS_{Treatments}/(n_{groups}-1)}{SS_{Error}/(n_{total}-n_{groups})}\n",
    "$$"
   ]
  },
  {
   "cell_type": "code",
   "execution_count": null,
   "metadata": {},
   "outputs": [],
   "source": [
    "F = None\n",
    "df = stats.f(df_groups,df_residuals)\n",
    "p = df.sf(F)\n",
    "print(('ANOVA-Results: F = {0}, and p={1}'.format(F, p)))"
   ]
  }
 ],
 "metadata": {
  "kernelspec": {
   "display_name": "Python 3",
   "language": "python",
   "name": "python3"
  },
  "language_info": {
   "codemirror_mode": {
    "name": "ipython",
    "version": 3
   },
   "file_extension": ".py",
   "mimetype": "text/x-python",
   "name": "python",
   "nbconvert_exporter": "python",
   "pygments_lexer": "ipython3",
   "version": "3.7.6"
  }
 },
 "nbformat": 4,
 "nbformat_minor": 4
}
