{
 "cells": [
  {
   "cell_type": "code",
   "execution_count": 2,
   "metadata": {},
   "outputs": [],
   "source": [
    "import numpy as np\n",
    "import pandas as pd"
   ]
  },
  {
   "cell_type": "code",
   "execution_count": 3,
   "metadata": {},
   "outputs": [
    {
     "data": {
      "text/html": [
       "<div>\n",
       "<style scoped>\n",
       "    .dataframe tbody tr th:only-of-type {\n",
       "        vertical-align: middle;\n",
       "    }\n",
       "\n",
       "    .dataframe tbody tr th {\n",
       "        vertical-align: top;\n",
       "    }\n",
       "\n",
       "    .dataframe thead th {\n",
       "        text-align: right;\n",
       "    }\n",
       "</style>\n",
       "<table border=\"1\" class=\"dataframe\">\n",
       "  <thead>\n",
       "    <tr style=\"text-align: right;\">\n",
       "      <th></th>\n",
       "      <th>0</th>\n",
       "      <th>1</th>\n",
       "      <th>2</th>\n",
       "    </tr>\n",
       "  </thead>\n",
       "  <tbody>\n",
       "    <tr>\n",
       "      <th>0</th>\n",
       "      <td>0.50</td>\n",
       "      <td>0.05</td>\n",
       "      <td>0.01</td>\n",
       "    </tr>\n",
       "    <tr>\n",
       "      <th>1</th>\n",
       "      <td>0.20</td>\n",
       "      <td>0.10</td>\n",
       "      <td>0.06</td>\n",
       "    </tr>\n",
       "    <tr>\n",
       "      <th>2</th>\n",
       "      <td>0.02</td>\n",
       "      <td>0.03</td>\n",
       "      <td>NaN</td>\n",
       "    </tr>\n",
       "  </tbody>\n",
       "</table>\n",
       "</div>"
      ],
      "text/plain": [
       "      0     1     2\n",
       "0  0.50  0.05  0.01\n",
       "1  0.20  0.10  0.06\n",
       "2  0.02  0.03   NaN"
      ]
     },
     "execution_count": 3,
     "metadata": {},
     "output_type": "execute_result"
    }
   ],
   "source": [
    "wyniki = pd.DataFrame({0: [0.5, 0.2, 0.02], 1: [0.05,0.1,0.03], 2: [0.01,0.06,np.nan]})\n",
    "wyniki"
   ]
  },
  {
   "cell_type": "markdown",
   "metadata": {},
   "source": [
    "Oblicz:\n",
    " - wartość funkcji prawdopodobieństwa f(2,2) i wpisz w miejsce NaN\n",
    " - P(Y=2)\n",
    " - F(1,1)\n"
   ]
  },
  {
   "cell_type": "code",
   "execution_count": 4,
   "metadata": {},
   "outputs": [
    {
     "name": "stdout",
     "output_type": "stream",
     "text": [
      "      0     1     2\n",
      "0  0.50  0.05  0.01\n",
      "1  0.20  0.10  0.06\n",
      "2  0.02  0.03  0.03\n",
      "f(2,2) = 0.03\n"
     ]
    }
   ],
   "source": [
    "f_2_2 = 1-np.nansum(wyniki)\n",
    "wyniki.iloc[2,2] = f_2_2\n",
    "print(wyniki)\n",
    "print('f(2,2) = %0.2f' %f_2_2)"
   ]
  },
  {
   "cell_type": "code",
   "execution_count": 5,
   "metadata": {},
   "outputs": [
    {
     "name": "stdout",
     "output_type": "stream",
     "text": [
      "P(Y=2) = 0.10\n"
     ]
    }
   ],
   "source": [
    "P_Y_2 = np.sum(wyniki.iloc[:,2])\n",
    "print('P(Y=2) = %0.2f' %P_Y_2)"
   ]
  },
  {
   "cell_type": "code",
   "execution_count": 6,
   "metadata": {},
   "outputs": [
    {
     "name": "stdout",
     "output_type": "stream",
     "text": [
      "F(1,1) = 0.85\n"
     ]
    }
   ],
   "source": [
    "F_1_1 = np.sum(np.array(wyniki.iloc[:2,:2]))\n",
    "print('F(1,1) = %0.2f' %F_1_1)"
   ]
  },
  {
   "cell_type": "markdown",
   "metadata": {},
   "source": [
    "Oblicz funkcje prawdopodobieństwa:\n",
    " - $f_{X}$\n",
    " - $f_{Y}$"
   ]
  },
  {
   "cell_type": "code",
   "execution_count": 7,
   "metadata": {},
   "outputs": [
    {
     "name": "stdout",
     "output_type": "stream",
     "text": [
      "0    0.56\n",
      "1    0.36\n",
      "2    0.08\n",
      "dtype: float64\n"
     ]
    }
   ],
   "source": [
    "f_X = np.sum(wyniki,axis=1)\n",
    "print(f_X)"
   ]
  },
  {
   "cell_type": "code",
   "execution_count": 8,
   "metadata": {},
   "outputs": [
    {
     "name": "stdout",
     "output_type": "stream",
     "text": [
      "0    0.72\n",
      "1    0.18\n",
      "2    0.10\n",
      "dtype: float64\n"
     ]
    }
   ],
   "source": [
    "f_Y = np.sum(wyniki,axis=0)\n",
    "print(f_Y)"
   ]
  },
  {
   "cell_type": "markdown",
   "metadata": {},
   "source": [
    "Oblicz prawdopodobieństwo warunkowego $P(X=1|Y=2)$"
   ]
  },
  {
   "cell_type": "code",
   "execution_count": 9,
   "metadata": {},
   "outputs": [
    {
     "name": "stdout",
     "output_type": "stream",
     "text": [
      "P(X=1|Y=2) = 0.60\n"
     ]
    }
   ],
   "source": [
    "P_X1_Y2 = wyniki.iloc[1,2]/np.sum(wyniki.iloc[:,2])\n",
    "print('P(X=1|Y=2) = %0.2f' %P_X1_Y2)"
   ]
  },
  {
   "cell_type": "markdown",
   "metadata": {},
   "source": [
    "Oblicz funkcję prawdopodobieństwa warunkowego $P(X|Y=1)$"
   ]
  },
  {
   "cell_type": "code",
   "execution_count": 10,
   "metadata": {},
   "outputs": [
    {
     "name": "stdout",
     "output_type": "stream",
     "text": [
      "0    0.277778\n",
      "1    0.555556\n",
      "2    0.166667\n",
      "Name: 1, dtype: float64\n"
     ]
    }
   ],
   "source": [
    "P_X_Y1 = wyniki.iloc[:,1]/np.sum(wyniki.iloc[:,1])\n",
    "print(P_X_Y1)"
   ]
  },
  {
   "cell_type": "markdown",
   "metadata": {},
   "source": [
    "Sprawdź czy zmienne X i Y są niezależne"
   ]
  },
  {
   "cell_type": "code",
   "execution_count": 11,
   "metadata": {},
   "outputs": [
    {
     "name": "stdout",
     "output_type": "stream",
     "text": [
      "Zmienne X i Y są zależne\n"
     ]
    }
   ],
   "source": [
    "f_X_f_Y = np.array(f_X).T*np.array(f_Y).reshape([3,1])\n",
    "if np.all(f_X_f_Y == np.array(wyniki)):\n",
    "    print('Zmienne X i Y są niezależne')\n",
    "else:\n",
    "    print(\"Zmienne X i Y są zależne\")"
   ]
  },
  {
   "cell_type": "code",
   "execution_count": 13,
   "metadata": {},
   "outputs": [
    {
     "data": {
      "text/plain": [
       "array([[0.4032, 0.1008, 0.056 ],\n",
       "       [0.2592, 0.0648, 0.036 ],\n",
       "       [0.0576, 0.0144, 0.008 ]])"
      ]
     },
     "execution_count": 13,
     "metadata": {},
     "output_type": "execute_result"
    }
   ],
   "source": [
    "np.outer(np.array(f_X).T,np.array(f_Y))"
   ]
  },
  {
   "cell_type": "code",
   "execution_count": null,
   "metadata": {},
   "outputs": [],
   "source": []
  },
  {
   "cell_type": "code",
   "execution_count": null,
   "metadata": {},
   "outputs": [],
   "source": []
  }
 ],
 "metadata": {
  "kernelspec": {
   "display_name": "Python 3",
   "language": "python",
   "name": "python3"
  },
  "language_info": {
   "codemirror_mode": {
    "name": "ipython",
    "version": 3
   },
   "file_extension": ".py",
   "mimetype": "text/x-python",
   "name": "python",
   "nbconvert_exporter": "python",
   "pygments_lexer": "ipython3",
   "version": "3.7.6"
  }
 },
 "nbformat": 4,
 "nbformat_minor": 4
}
