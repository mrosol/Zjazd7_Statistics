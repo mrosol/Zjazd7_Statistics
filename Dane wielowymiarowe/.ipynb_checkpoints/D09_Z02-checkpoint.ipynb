{
 "cells": [
  {
   "cell_type": "code",
   "execution_count": null,
   "metadata": {},
   "outputs": [],
   "source": [
    "import numpy as np\n",
    "from scipy import stats\n",
    "import pandas as pd\n",
    "import matplotlib.pyplot as plt"
   ]
  },
  {
   "cell_type": "markdown",
   "metadata": {},
   "source": [
    "# Korelacja"
   ]
  },
  {
   "cell_type": "markdown",
   "metadata": {},
   "source": [
    "Współczynnik korelacji między dwiema zmiennymi odpowiada na pytanie: \n",
    "\n",
    "<i>Czy dwie zmienne są powiązane? </i> \n",
    "\n",
    "## Współczynnik korelacji Pearsona \n",
    "\n",
    "Współczynnik korelacji Pearsona - współczynnik określający poziom zależności liniowej między zmiennymi losowymi.\n",
    "\n",
    "## Korelacja rang Spearmana \n",
    "\n",
    "Korelacja rang Spearmana (lub: korelacja rangowa Spearmana, rho Spearmana) – jedna z nieparametrycznych miar monotonicznej zależności statystycznej między zmiennymi losowymi.\n",
    "\n",
    "Korelacja rangowa przyjmuje zawsze wartości z przedziału $[-1,+1]$. Ich interpretacja jest podobna do klasycznego współczynnika korelacji Pearsona, z jednym zastrzeżeniem: \n",
    "- w odróżnieniu od współczynnika Pearsona, który mierzy liniową zależność między zmiennymi, a wszelkie inne związki traktuje jak zaburzone zależności liniowe, korelacja rangowa pokazuje dowolną monotoniczną zależność (także nieliniową).\n",
    "\n",
    "## Korelacja Tau Kendalla \n",
    "\n",
    "Tau Kendalla – statystyka będąca jedną z miar monotonicznej zależności dwóch zmiennych losowych. Służy w praktyce do opisu korelacji między zmiennymi porządkowymi.\n",
    "\n",
    "Tau Kendalla przyjmuje wartości od -1 do 1 włącznie. +1 oznacza, że każda ze zmiennych rośnie przy wzroście drugiej. -1 oznacza że każda maleje przy wzroście drugiej. Tym samym tau Kendalla, podobnie jak korelacja rangowa jest miarą monotonicznej zależności zmiennych losowych."
   ]
  },
  {
   "cell_type": "markdown",
   "metadata": {},
   "source": [
    "# Zadanie 1 \n",
    "Policz korelacje: \n",
    "<ul>\n",
    "<li>pearson</li>\n",
    "<li>spearman</li>\n",
    "<li>kendall</li>\n",
    "</ul>\n",
    "\n",
    "dla zbioru:"
   ]
  },
  {
   "cell_type": "code",
   "execution_count": null,
   "metadata": {},
   "outputs": [],
   "source": [
    "f = lambda x: (x)\n",
    "x_tr = np.linspace(0., 5, 200)\n",
    "y_tr = f(x_tr)\n",
    "x = stats.uniform(1,3).rvs(100)\n",
    "y = f(x) + stats.norm(0,0.1).rvs(len(x))"
   ]
  },
  {
   "cell_type": "code",
   "execution_count": null,
   "metadata": {},
   "outputs": [],
   "source": [
    "plt.figure(figsize=(6,6));\n",
    "axes = plt.gca()\n",
    "axes.set_xlim([0,5])\n",
    "axes.set_ylim([0,5])\n",
    "plt.plot(x_tr, y_tr, '--k');\n",
    "plt.plot(x, y, 'ok', ms=3);\n",
    "plt.show()"
   ]
  },
  {
   "cell_type": "code",
   "execution_count": null,
   "metadata": {},
   "outputs": [],
   "source": [
    "corr = {}\n",
    "corr['pearson'], _ = stats.pearsonr(x,y)\n",
    "corr['spearman'], _ = stats.spearmanr(x,y)\n",
    "corr['kendall'], _ = stats.kendalltau(x,y)\n",
    "print(corr)    "
   ]
  },
  {
   "cell_type": "markdown",
   "metadata": {},
   "source": [
    "# Zadanie 2 \n",
    "Policz korelacje: \n",
    "<ul>\n",
    "<li>pearson</li>\n",
    "<li>spearman</li>\n",
    "<li>kendall</li>\n",
    "</ul>\n",
    "\n",
    "dla zbioru:"
   ]
  },
  {
   "cell_type": "code",
   "execution_count": null,
   "metadata": {},
   "outputs": [],
   "source": [
    "f = lambda x: (-x+5)\n",
    "x_tr = np.linspace(0., 5, 200)\n",
    "y_tr = f(x_tr)\n",
    "x = stats.uniform(1,3).rvs(100)\n",
    "y = f(x) + stats.norm(0,0.1).rvs(len(x))"
   ]
  },
  {
   "cell_type": "code",
   "execution_count": null,
   "metadata": {},
   "outputs": [],
   "source": [
    "plt.figure(figsize=(6,6));\n",
    "axes = plt.gca()\n",
    "axes.set_xlim([0,5])\n",
    "axes.set_ylim([0,5])\n",
    "plt.plot(x_tr, y_tr, '--k');\n",
    "plt.plot(x, y, 'ok', ms=3);\n",
    "plt.show()"
   ]
  },
  {
   "cell_type": "code",
   "execution_count": null,
   "metadata": {},
   "outputs": [],
   "source": []
  },
  {
   "cell_type": "markdown",
   "metadata": {},
   "source": [
    "# Zadanie 3\n",
    "Policz korelacje: \n",
    "<ul>\n",
    "<li>pearson</li>\n",
    "<li>spearman</li>\n",
    "<li>kendall</li>\n",
    "</ul>\n",
    "\n",
    "dla zbioru:"
   ]
  },
  {
   "cell_type": "code",
   "execution_count": null,
   "metadata": {},
   "outputs": [],
   "source": [
    "f = lambda x: (x)\n",
    "x_tr = np.linspace(0., 5, 200)\n",
    "y_tr = f(x_tr)\n",
    "x = stats.uniform(1,3).rvs(100)\n",
    "y = f(x) + stats.norm(0,1).rvs(len(x))"
   ]
  },
  {
   "cell_type": "code",
   "execution_count": null,
   "metadata": {},
   "outputs": [],
   "source": [
    "plt.figure(figsize=(6,6));\n",
    "axes = plt.gca()\n",
    "axes.set_xlim([0,5])\n",
    "axes.set_ylim([0,5])\n",
    "plt.plot(x_tr, y_tr, '--k');\n",
    "plt.plot(x, y, 'ok', ms=3);\n",
    "plt.show()"
   ]
  },
  {
   "cell_type": "code",
   "execution_count": null,
   "metadata": {},
   "outputs": [],
   "source": []
  },
  {
   "cell_type": "markdown",
   "metadata": {},
   "source": [
    "# Zadanie 4\n",
    "Policz korelacje: \n",
    "<ul>\n",
    "<li>pearson</li>\n",
    "<li>spearman</li>\n",
    "<li>kendall</li>\n",
    "</ul>\n",
    "\n",
    "dla zbioru:"
   ]
  },
  {
   "cell_type": "code",
   "execution_count": null,
   "metadata": {},
   "outputs": [],
   "source": [
    "f = lambda x: ((x-4)*(x-2)*(x-3))\n",
    "x_tr = np.linspace(0., 5, 200)\n",
    "y_tr = f(x_tr)\n",
    "x = stats.uniform(1,3).rvs(100)\n",
    "y = f(x) + stats.norm(0,0.3).rvs(len(x))"
   ]
  },
  {
   "cell_type": "code",
   "execution_count": null,
   "metadata": {},
   "outputs": [],
   "source": [
    "plt.figure(figsize=(6,6));\n",
    "axes = plt.gca()\n",
    "axes.set_xlim([0,5])\n",
    "axes.set_ylim([np.min(y),f(5)])\n",
    "plt.plot(x_tr, y_tr, '--k');\n",
    "plt.plot(x, y, 'ok', ms=3);\n",
    "plt.show()"
   ]
  },
  {
   "cell_type": "code",
   "execution_count": null,
   "metadata": {},
   "outputs": [],
   "source": []
  },
  {
   "cell_type": "markdown",
   "metadata": {},
   "source": [
    "# Zadanie 5\n",
    "Wygeneruj zbiór tak by \n",
    "<ul>\n",
    "<li>korelacja pearsona wynosiła około 0.5</li>\n",
    "<li>korelacja spearmana wynosiła około 1</li>\n",
    "<li>korelacja kendalla wynosiła około 1</li>\n",
    "</ul>"
   ]
  },
  {
   "cell_type": "code",
   "execution_count": null,
   "metadata": {},
   "outputs": [],
   "source": []
  }
 ],
 "metadata": {
  "kernelspec": {
   "display_name": "Python 3",
   "language": "python",
   "name": "python3"
  },
  "language_info": {
   "codemirror_mode": {
    "name": "ipython",
    "version": 3
   },
   "file_extension": ".py",
   "mimetype": "text/x-python",
   "name": "python",
   "nbconvert_exporter": "python",
   "pygments_lexer": "ipython3",
   "version": "3.7.6"
  }
 },
 "nbformat": 4,
 "nbformat_minor": 2
}
